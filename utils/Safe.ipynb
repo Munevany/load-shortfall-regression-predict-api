{
 "cells": [
  {
   "cell_type": "code",
   "execution_count": null,
   "id": "3e313dc6-effa-4a99-95ce-1f6fcb4d4ba3",
   "metadata": {},
   "outputs": [],
   "source": [
    "incl = ['Valencia_wind_deg', 'Barcelona_pressure', 'Valencia_wind_speed']\n",
    "    df_in = feature_vector_df[incl]\n",
    "\n",
    "    categoricals = []\n",
    "    for col, col_type in df_in.dtypes.iteritems():\n",
    "        if col_type == 'O':\n",
    "            categoricals.append(col)\n",
    "        else:\n",
    "            df_in[col].fillna(0, inplace=True)\n",
    "\n",
    "    df_ohe = pd.get_dummies(df_in, columns=categoricals, dummy_na=True)y\n"
   ]
  },
  {
   "cell_type": "code",
   "execution_count": null,
   "id": "4a9c0f83-5b78-444c-8fd8-368d255351a5",
   "metadata": {},
   "outputs": [],
   "source": [
    "incl = ['Valencia_wind_deg', 'Barcelona_pressure', 'Valencia_wind_speed', 'time']\n",
    "df_in = df_train[incl]\n",
    "df_in.head()\n",
    "\n",
    "categoricals = []\n",
    "for col, col_type in df_in.dtypes.iteritems():\n",
    "    if col_type == 'O':\n",
    "        categoricals.append(col)\n",
    "    else:\n",
    "        df_in[col].fillna(0, inplace=True)"
   ]
  }
 ],
 "metadata": {
  "kernelspec": {
   "display_name": "Python 3 (ipykernel)",
   "language": "python",
   "name": "python3"
  },
  "language_info": {
   "codemirror_mode": {
    "name": "ipython",
    "version": 3
   },
   "file_extension": ".py",
   "mimetype": "text/x-python",
   "name": "python",
   "nbconvert_exporter": "python",
   "pygments_lexer": "ipython3",
   "version": "3.9.7"
  }
 },
 "nbformat": 4,
 "nbformat_minor": 5
}
