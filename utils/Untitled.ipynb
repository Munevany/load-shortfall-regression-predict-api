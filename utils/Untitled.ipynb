{
 "cells": [
  {
   "cell_type": "code",
   "execution_count": 1,
   "id": "17081a91-1716-4cfa-b186-6c0bddd341f4",
   "metadata": {},
   "outputs": [],
   "source": [
    "import numpy as np\n",
    "import pandas as pd\n",
    "from sklearn.preprocessing import StandardScaler\n",
    "import pickle\n",
    "import json\n"
   ]
  },
  {
   "cell_type": "code",
   "execution_count": 3,
   "id": "1acd3fdf-55ad-4543-8527-8fb124c85c02",
   "metadata": {},
   "outputs": [
    {
     "ename": "NameError",
     "evalue": "name 'data' is not defined",
     "output_type": "error",
     "traceback": [
      "\u001b[1;31m---------------------------------------------------------------------------\u001b[0m",
      "\u001b[1;31mNameError\u001b[0m                                 Traceback (most recent call last)",
      "\u001b[1;32mC:\\Users\\NESSA~1.DES\\AppData\\Local\\Temp/ipykernel_6936/625271046.py\u001b[0m in \u001b[0;36m<module>\u001b[1;34m\u001b[0m\n\u001b[1;32m----> 1\u001b[1;33m \u001b[0mfeature_vector_dict\u001b[0m \u001b[1;33m=\u001b[0m \u001b[0mjson\u001b[0m\u001b[1;33m.\u001b[0m\u001b[0mloads\u001b[0m\u001b[1;33m(\u001b[0m\u001b[0mdata\u001b[0m\u001b[1;33m)\u001b[0m\u001b[1;33m\u001b[0m\u001b[1;33m\u001b[0m\u001b[0m\n\u001b[0m\u001b[0;32m      2\u001b[0m     \u001b[1;31m# Load the dictionary as a Pandas DataFrame.\u001b[0m\u001b[1;33m\u001b[0m\u001b[1;33m\u001b[0m\u001b[0m\n\u001b[0;32m      3\u001b[0m \u001b[0mfeature_vector_df\u001b[0m \u001b[1;33m=\u001b[0m \u001b[0mpd\u001b[0m\u001b[1;33m.\u001b[0m\u001b[0mDataFrame\u001b[0m\u001b[1;33m.\u001b[0m\u001b[0mfrom_dict\u001b[0m\u001b[1;33m(\u001b[0m\u001b[1;33m[\u001b[0m\u001b[0mfeature_vector_dict\u001b[0m\u001b[1;33m]\u001b[0m\u001b[1;33m)\u001b[0m\u001b[1;33m\u001b[0m\u001b[1;33m\u001b[0m\u001b[0m\n\u001b[0;32m      4\u001b[0m \u001b[1;33m\u001b[0m\u001b[0m\n\u001b[0;32m      5\u001b[0m     \u001b[1;31m# ---------------------------------------------------------------\u001b[0m\u001b[1;33m\u001b[0m\u001b[1;33m\u001b[0m\u001b[0m\n",
      "\u001b[1;31mNameError\u001b[0m: name 'data' is not defined"
     ]
    }
   ],
   "source": [
    "feature_vector_dict = json.loads(data)\n",
    "    # Load the dictionary as a Pandas DataFrame.\n",
    "feature_vector_df = pd.DataFrame.from_dict([feature_vector_dict])\n",
    "\n",
    "    # ---------------------------------------------------------------\n",
    "    # NOTE: You will need to swap the lines below for your own data\n",
    "    # preprocessing methods.\n",
    "    #\n",
    "    # The code below is for demonstration purposes only. You will not\n",
    "    # receive marks for submitting this code in an unchanged state.\n",
    "    # ---------------------------------------------------------------\n",
    "\n",
    "    # ----------- Replace this code with your own preprocessing steps --------\n",
    "        #imputing missing values\n",
    "    # impute the mode\n",
    "df_train['Valencia_pressure'] = df_train['Valencia_pressure'].fillna(df_train['Valencia_pressure'].mode()[0])\n",
    "\n",
    "\n",
    "# extracting the number from the string \n",
    "df_train['Valencia_wind_deg'] = df_train['Valencia_wind_deg'].str.extract('(\\d+)').astype('int64')\n",
    "\n",
    "\n",
    "    # change the test data type to integer\n",
    "df_train['Valencia_wind_deg'] = pd.to_numeric(df_train['Valencia_wind_deg'])\n",
    " \n",
    "\n",
    "    # extracting the number from the string \n",
    "df_train['Seville_pressure'] = df_train['Seville_pressure'].str.extract('(\\d+)').astype('int64')\n",
    "\n",
    "\n",
    " \n",
    "    # change the data type to integer\n",
    "df_train['Seville_pressure'] = pd.to_numeric(df_train['Seville_pressure'])\n",
    " \n",
    "df_train['Year']  = df_train['time'].astype('datetime64').dt.year\n",
    "df_train['Month_of_year']  = df_train['time'].astype('datetime64').dt.month\n",
    "df_train['Week_of_year'] = df_train['time'].astype('datetime64').dt.weekofyear\n",
    "df_train['Day_of_year']  = df_train['time'].astype('datetime64').dt.dayofyear\n",
    "df_train['Day_of_month']  = df_train['time'].astype('datetime64').dt.day\n",
    "df_train['Day_of_week'] = df_train['time'].astype('datetime64').dt.dayofweek\n",
    "df_train['Hour_of_week'] = ((df_train['time'].astype('datetime64').dt.dayofweek) * 24 + 24) - (24 - df_train['time'].astype('datetime64').dt.hour)\n",
    "df_train['Hour_of_day']  = df_train['time'].astype('datetime64').dt.hour\n",
    "\n",
    "df_train = df_train.drop(columns=['Week_of_year','Day_of_year','Hour_of_week', 'Unnamed: 0','time'])\n",
    "\n",
    "    \n",
    "scaler = StandardScaler()\n",
    "X_scaled = scaler.fit_transform(df_train)\n",
    "X_scaled = pd.DataFrame(X_scaled,columns=df_train.columns)\n",
    "     \n",
    "    \n",
    "    \n",
    "feature_vector_df = X_scaled[['Madrid_wind_speed', 'Valencia_wind_deg', 'Bilbao_rain_1h',\n",
    "       'Valencia_wind_speed', 'Seville_humidity', 'Madrid_humidity',\n",
    "       'Bilbao_clouds_all', 'Bilbao_wind_speed', 'Seville_clouds_all',\n",
    "       'Bilbao_wind_deg', 'Barcelona_wind_speed', 'Barcelona_wind_deg',\n",
    "       'Madrid_clouds_all', 'Seville_wind_speed', 'Barcelona_rain_1h',\n",
    "       'Seville_pressure', 'Seville_rain_1h', 'Bilbao_snow_3h',\n",
    "       'Barcelona_pressure', 'Seville_rain_3h', 'Madrid_rain_1h',\n",
    "       'Barcelona_rain_3h', 'Valencia_snow_3h', 'Madrid_weather_id',\n",
    "       'Barcelona_weather_id', 'Bilbao_pressure', 'Seville_weather_id',\n",
    "       'Valencia_pressure', 'Seville_temp_max', 'Madrid_pressure',\n",
    "       'Valencia_temp_max', 'Valencia_temp', 'Bilbao_weather_id',\n",
    "       'Seville_temp', 'Valencia_humidity', 'Valencia_temp_min',\n",
    "       'Barcelona_temp_max', 'Madrid_temp_max', 'Barcelona_temp',\n",
    "       'Bilbao_temp_min', 'Bilbao_temp', 'Barcelona_temp_min',\n",
    "       'Bilbao_temp_max', 'Seville_temp_min', 'Madrid_temp', 'Madrid_temp_min',\n",
    "       'Year', 'Month_of_year', 'Day_of_month', 'Day_of_week', 'Hour_of_day']]"
   ]
  },
  {
   "cell_type": "code",
   "execution_count": null,
   "id": "4d5e294a-01b3-4b03-8c2c-58e8bb9863ca",
   "metadata": {},
   "outputs": [],
   "source": []
  }
 ],
 "metadata": {
  "kernelspec": {
   "display_name": "Python 3 (ipykernel)",
   "language": "python",
   "name": "python3"
  },
  "language_info": {
   "codemirror_mode": {
    "name": "ipython",
    "version": 3
   },
   "file_extension": ".py",
   "mimetype": "text/x-python",
   "name": "python",
   "nbconvert_exporter": "python",
   "pygments_lexer": "ipython3",
   "version": "3.9.7"
  }
 },
 "nbformat": 4,
 "nbformat_minor": 5
}
